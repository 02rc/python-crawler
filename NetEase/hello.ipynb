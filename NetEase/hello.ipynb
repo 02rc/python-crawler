{
 "cells": [
  {
   "cell_type": "code",
   "execution_count": 1,
   "id": "e1b69f08-fd77-4863-9759-16102395430f",
   "metadata": {},
   "outputs": [
    {
     "name": "stdout",
     "output_type": "stream",
     "text": [
      "hello github\n"
     ]
    }
   ],
   "source": [
    "print('hello github')"
   ]
  },
  {
   "cell_type": "code",
   "execution_count": null,
   "id": "a1f9ca93-071e-478c-96e8-d2dfb552b627",
   "metadata": {},
   "outputs": [],
   "source": []
  }
 ],
 "metadata": {
  "kernelspec": {
   "display_name": "Python 3 (ipykernel)",
   "language": "python",
   "name": "python3"
  },
  "language_info": {
   "codemirror_mode": {
    "name": "ipython",
    "version": 3
   },
   "file_extension": ".py",
   "mimetype": "text/x-python",
   "name": "python",
   "nbconvert_exporter": "python",
   "pygments_lexer": "ipython3",
   "version": "3.9.19"
  }
 },
 "nbformat": 4,
 "nbformat_minor": 5
}

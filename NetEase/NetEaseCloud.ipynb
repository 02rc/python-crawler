{
 "cells": [
  {
   "cell_type": "markdown",
   "id": "e86c322e-a79d-48f6-9d38-83d6bc2cf7e8",
   "metadata": {},
   "source": [
    "任务：    \n",
    "1、获取单张图片       \n",
    "2、获取单首歌曲       \n",
    "3、获取单个MV       "
   ]
  },
  {
   "cell_type": "code",
   "execution_count": 1,
   "id": "a1f9ca93-071e-478c-96e8-d2dfb552b627",
   "metadata": {},
   "outputs": [],
   "source": [
    "# 图片\n",
    "import requests\n",
    "import os\n",
    "# url：在网络上随便找一张图片的url（F12 -- network header -- request url ）\n",
    "url = 'http://p1.music.126.net/K1ivT4WAM9kh-zdpE7_M5w==/109951169443549318.jpg?imageView&quality=89'\n",
    "res1 = requests.get(url)\n",
    "# 图片保存路径\n",
    "save_folder_image = r'C:\\Users\\Administrator\\Pictures' # \\U有歧义，所以加原始编译符r\n",
    "image_name = 'NetEase.jpg'\n",
    "save_path = os.path.join(save_folder_image, image_name)\n",
    "# 保存图片\n",
    "with open(save_path,'wb') as f:\n",
    "    f.write(res1.content)"
   ]
  },
  {
   "cell_type": "code",
   "execution_count": 5,
   "id": "82175ac7-b465-4ce5-9008-8640d65b767d",
   "metadata": {},
   "outputs": [],
   "source": [
    "# 歌曲——突然好想你\n",
    "url = 'https://m704.music.126.net/20240327181008/c9043ec99145530e2e5e2231af335e49/jdyyaac/obj/w5rDlsOJwrLDjj7CmsOj/23422506172/4a72/7beb/9985/e1805c9cf30656d46e855f9bea976ce7.m4a?authSecret=0000018e7f4c90b60f040aaba04712d3'\n",
    "res2 = requests.get(url)\n",
    "# 图片保存路径\n",
    "save_folder_image = r\"C:\\Users\\Administrator\\Music\" # \\U有歧义，所以加原始编译符r\n",
    "image_name = '突然好想你.mp3'\n",
    "save_path = os.path.join(save_folder_image, image_name)\n",
    "# 保存图片\n",
    "with open(save_path,'wb') as f:\n",
    "    f.write(res2.content)"
   ]
  },
  {
   "cell_type": "code",
   "execution_count": 6,
   "id": "d7dc78ee-06d1-4e95-aaf2-5243a84febc2",
   "metadata": {},
   "outputs": [],
   "source": [
    "# mv——挪威的森林\n",
    "url = 'https://vodkgeyttp8.vod.126.net/cloudmusic/f9c5/core/a322/f1b5bf8dc700169204acff0e3c6f14b3.mp4?wsSecret=acb8030125d01ca0a0d6e272b0672268&wsTime=1711533539'\n",
    "res3 = requests.get(url)\n",
    "# 图片保存路径\n",
    "save_folder_image = r\"C:\\Users\\Administrator\\Videos\" # \\U有歧义，所以加原始编译符r\n",
    "image_name = '挪威的森林.mp4'\n",
    "save_path = os.path.join(save_folder_image, image_name)\n",
    "# 保存图片\n",
    "with open(save_path,'wb') as f:\n",
    "    f.write(res3.content)"
   ]
  },
  {
   "cell_type": "code",
   "execution_count": null,
   "id": "f92c38d9-062a-471c-b6c3-85ac09a0de68",
   "metadata": {},
   "outputs": [],
   "source": []
  }
 ],
 "metadata": {
  "kernelspec": {
   "display_name": "Python 3 (ipykernel)",
   "language": "python",
   "name": "python3"
  },
  "language_info": {
   "codemirror_mode": {
    "name": "ipython",
    "version": 3
   },
   "file_extension": ".py",
   "mimetype": "text/x-python",
   "name": "python",
   "nbconvert_exporter": "python",
   "pygments_lexer": "ipython3",
   "version": "3.9.19"
  }
 },
 "nbformat": 4,
 "nbformat_minor": 5
}

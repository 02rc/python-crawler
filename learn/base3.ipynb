{
 "cells": [
  {
   "cell_type": "markdown",
   "id": "fdb4d299-e0ed-4718-80f0-d50621b2f806",
   "metadata": {},
   "source": [
    "# 数据库"
   ]
  },
  {
   "cell_type": "markdown",
   "id": "05ad01e7-b264-4d18-9dfa-07ff76cd9882",
   "metadata": {},
   "source": [
    "## mysql 介绍\n",
    "关系型数据库和非关系型数据库             \n",
    "关系型数据库：行和列的形式存储，易于维护：mysql          \n",
    "非关系型数据库：单条数据存储\n",
    "\n",
    "mysql：字段类型：     \n",
    "数字int     \n",
    "字符串varchar        \n",
    "日期datetime\n"
   ]
  },
  {
   "cell_type": "markdown",
   "id": "3b33ac69-f992-44b9-8bd2-67db3e57d5b9",
   "metadata": {},
   "source": [
    "## sql基本命令\n",
    "进入数据库：mysql -uroot -p       \n",
    "显示所有的数据库：show databases;\n",
    "创建新的数据库：create database 'name' chartset=utf8;          \n",
    "进入数据库:use name;         \n",
    "查询数据库：select database();     \n",
    "删除数据库：drop database 'name';\n"
   ]
  },
  {
   "cell_type": "markdown",
   "id": "7ab701dd-e385-4ae9-8484-0b7dbc16f9f6",
   "metadata": {},
   "source": [
    "## mysql建库建表\n",
    "展示表： show tables;              \n",
    "显示表结构：desc 'name';           \n",
    "删除表：drop table 'name';                  \n",
    "创建表：create table name('类型')             \n",
    "\n",
    "数据插入--insert(insert into name values())            \n",
    "查询数据--select(select * from name )\n",
    "数据更新--update(update name set * where *)\n",
    "数据删除-- delete(delete from tb where id=2)"
   ]
  },
  {
   "cell_type": "markdown",
   "id": "9e2f628c-3dd4-4beb-9771-c383f58c99ea",
   "metadata": {},
   "source": [
    "## 与python交互\n",
    "connect:方法         \n",
    "host:主机           \n",
    "user:用户         \n",
    "passwd:密码         \n",
    "db:数据库名          \n",
    "port:3306          \n",
    "chartset:utf8            "
   ]
  },
  {
   "cell_type": "code",
   "execution_count": 1,
   "id": "6f8c8591-34ba-442f-a305-ba6fbde5afed",
   "metadata": {
    "tags": []
   },
   "outputs": [
    {
     "name": "stdout",
     "output_type": "stream",
     "text": [
      "<pymysql.cursors.Cursor object at 0x00000137DE5803D0>\n",
      "1\n",
      "((2, 'hello'),)\n"
     ]
    }
   ],
   "source": [
    "import pymysql\n",
    "\n",
    "db_config={\n",
    "    'host':'localhost',\n",
    "    'port':3306,\n",
    "    'user':'root',\n",
    "    'password':'ren12345678',\n",
    "    'db':'crawler_base3'\n",
    "}\n",
    "# 建立连接对象\n",
    "conn = pymysql.connect(**db_config)\n",
    "# 创立游标对象,方法大多是在游标对象上运行\n",
    "cur = conn.cursor()\n",
    "print(cur)\n",
    "# sql语句\n",
    "sql = 'select * from tb'\n",
    "res = cur.execute(sql)\n",
    "print(res)# 数据条数 int\n",
    "print(cur.fetchall())#显示表中的全部数据\n",
    "# 关闭连接、关闭对象\n",
    "conn.close()\n",
    "cur.close()"
   ]
  },
  {
   "cell_type": "markdown",
   "id": "15848e5d-62dd-46ff-9b14-1651f4d71575",
   "metadata": {
    "tags": []
   },
   "source": [
    "## 腾讯课堂评论入库"
   ]
  },
  {
   "cell_type": "code",
   "execution_count": 2,
   "id": "e13af561-aaa2-4226-b70f-b312f7e3a6f2",
   "metadata": {
    "tags": []
   },
   "outputs": [],
   "source": [
    "import json\n",
    "import requests\n",
    "from jsonpath import jsonpath\n",
    "# https://ke.qq.com/cgi-bin/comment_new/course_comment_list?cid=276117&filter_rating=0&page=1&bkn=&r=0.5682\n",
    "url = 'https://ke.qq.com/cgi-bin/comment_new/course_comment_list?cid=276117&filter_rating=0'\n",
    "headers = {\n",
    "    'User-Agent': 'Mozilla/5.0 (Windows NT 10.0; Win64; x64) AppleWebKit/537.36 (KHTML, like Gecko) Chrome/123.0.0.0 Safari/537.36',\n",
    "    'Referer':'https://ke.qq.com/course/276117'\n",
    "}\n",
    "\n",
    "conn = pymysql.connect(user='root', password='ren12345678',db='crawler_base3')\n",
    "cur = conn.cursor()\n",
    "sql = 'DELETE FROM tencent_comment;'\n",
    "cur.execute(sql)\n",
    "comment = []\n",
    "for i in range(7):\n",
    "    para = {\n",
    "        'page':i\n",
    "    }\n",
    "    res = requests.get(url, headers=headers, params=para, timeout=5)\n",
    "    res2 = json.loads(res.text)\n",
    "    result = jsonpath(res2,'$..first_comment')\n",
    "    comment.extend(result)\n",
    "\n",
    "for c in comment:\n",
    "    sql = 'insert into tencent_comment values (\"%s\")' % c\n",
    "    cur.execute(sql)\n",
    "\n",
    "# 提交\n",
    "conn.commit()\n",
    "conn.close()\n",
    "cur.close()"
   ]
  },
  {
   "cell_type": "code",
   "execution_count": 3,
   "id": "dbf5011a-bf7b-4ea6-a0e8-61d348d54921",
   "metadata": {
    "tags": []
   },
   "outputs": [
    {
     "name": "stdout",
     "output_type": "stream",
     "text": [
      "(('老师讲的非常好，感谢老师！以后多多努力！',), ('特别好的一套教程。值得全网学习和推荐。',), (' 裴帅是我第一个3dsmax老师 从基础我就一直跟着老师学习 老师的讲解非常细致 思路清晰 非常适合我 别具特色的普通话也非常有特色 有亲和力 随时提问 老师只要有空 就会马上解答 一直都非常喜欢老师的课程 会一直支持老师！！！',), ('讲的不错，好好学习，天天向上。毕竟是腾讯课堂主办的嘛',), ('مذميتنستمسانسمتمستتسهنستصعستاسنطساطنسانطاس انا ساياسخسعخسعسحعسماطعينعععيزهذلذتذغيزرطليدياساسزستسلرسلساسزستسلسسيليصايثضدقلد',), ('简单易懂 讲的很细 老师治学严谨，要求严格，能深入了解学生的学习和生活状况，循循善诱，平易近人;注意启发和调动学生的积极性，课堂气氛较为活跃;上课例题丰富，不厌其烦，细心讲解，使学生有所收获;半数认真工整，批改作业认真及时并注意讲解学生易犯错误;最重要的是，段老师能虚心并广泛听取学生的意见和反馈信息，做到及时修正和调整自己的教学。总之，段老师是一个不可多得的好教师。',), ('很详细的多边形建模，老师很幽默，老讲冷笑话。但是对于建模的思路跟我们讲的很明确，对于建模步骤的操作都很详细，建模中每一根布线都是有讲究的，让我们清楚的知道自己单独建模需要怎么做，其他max中运用到的技巧也都讲的很仔细，感谢老师，学到很多。',), ('裴老师讲得很详细，是裴老师让我有建模动力，很感谢。',), ('给力，老师讲的很好，非常受用，对我这种小白非常受用',), ('通俗易懂，言简意赅。通俗易懂，言简意赅。',), ('干货大王 顶顶顶顶顶顶顶顶顶顶',), ('非常的全面。学会多边形真的什么都能做。',), ('很实用的教程，希望老师能多出这样的',), ('裴老师的课基本都报了 从一个月前的纯白小白到现在能独立出图 虽然很多细节还需努力 但这一切的成果还是需要有一个强大的导师和教学，准备实习找工作了加油',), ('很好讲的很详细受益非浅以后多些这样的课',), ('喜欢3D对这个非常感兴趣，老师讲的比较细，特别喜欢，自己觉得进步也很大，继续加油！',), ('老师不错，讲解给你，内容全面，',), ('只说一个字：牛 。牛B大了 ，课程讲锝非常地好。',), ('干货很多，细节很多，技巧灵活，值得学',), ('老师讲的挺好的，学到了很多东西',), ('好看又好玩的课堂，非常棒！第一次有了感觉，原来高级建模也沒想象中的难！',), ('非常细致 很喜欢老师的课程，加油',), ('多边形建模是智慧，是艺术，玩多边形，玩出快乐',), ('感觉讲的有点糙，对于新手关键点没有讲清楚，没有听懂。',), ('老师真的是把多边形讲透了，非常棒，学到了很多东西，准备攒钱报班了',), ('我喜欢裴老师的讲课方式，幽默风趣，通俗易懂 ，听了很多公开课后最好的一位老师！向裴帅致敬！真心谢谢',), ('听裴老师讲课收获很大，深入浅出，解决了很多疑问，以后会一直坚持听课，相信自己会不断进步。',), ('裴老师的讲课幽默，风趣，易懂，易学。让我这个没有基础的人都能快速的听懂。了不起的裴帅老师。',), ('不错，非常有意思，也很有用，谢谢，',), ('超级棒，讲的很详细，看了很多遍了',), ('很不错，讲解的生动有趣。以后会一直关注的',), ('老师讲的很好！讲课很有趣！容易听懂！',), ('清晰易懂。非常详细！棒棒棒棒棒！',), ('裴帅的课程很有诚意 说话又好听 这口音100分',), ('可以的，有学到很多东西，感觉还不错',), ('软包也非常好玩，效果逼真，什么沙发都可以设计了，非常实用的技巧！',), ('真的讲的太好了，风趣幽默，通俗易懂。',), ('牛牛牛666牛牛牛666牛牛牛666牛牛牛666牛牛牛666',), ('怪不得口碑那么好，原来还是有原因的，反正一句话，这课值得听。',), ('异形的3d max真的很好玩。我要继续学下去。谢谢裴帅。！',), ('第一次听裴老师用这么通俗易懂的方言普通话，幽默且风趣，牛B',), ('非常好非常好非常好非常好非常好',), ('学会熟练使用3DMAX，让你创意无限，想画什么就画什么。',), ('好喜欢老师的口音啊哈哈哈哈哈哈，说的也很有趣，好评',), ('干货教程 算讲的很不错了 墙都不服就服你',), ('666.666.666.666.666！！！非常6',), ('老师很棒 感谢 多边形建模很有趣 ',), ('很不错，学的东西正好工作用上了',), ('这个老师真的讲的超棒的！我已经推荐给朋友了，不停后悔',), ('很ok！知识点很丰富讲解清晰，满满的干货！',), ('裴帅 讲得很到位 赞 希望有更多的视频',), ('非常非常非常非常牛，6666666666666',), ('听了一圈，还是觉得这位老师有水平，很好懂！',), ('半夜逛网站，发现这位老师的课确实牛，收藏起来慢慢看。',), ('五星 好评 裴帅老师 可讲的牛逼啊 都能听的懂',), ('老师系统讲解比较详细，通俗易懂！非常好',), ('这里面原来也有非常有用的免费课程，谢谢这位帅哥！',), ('裴帅太流弊了。。。。。。。。。。。。。。',), ('第一次见这么完美的软包制作，谢谢老师',), ('喜欢这种教学，有趣，能使我学的进去',), ('真正的装逼神器太好玩了,收藏起来慢慢学。',), ('一如既往的喜欢这个课程，兴趣越来越浓厚了！',), ('云龙课堂的每堂课都是精品，一点都不夸张！',), ('好好好，干货多，怪不得裴帅的学生越来越多。',), ('到这里居然还有免费的公开课，好好看看。',), ('授课方式十分接地气，很好的理解，更容易的理解',), ('老师的思路很清晰，通俗易懂，谢谢老师的教程。',), ('牛牛牛，非常牛，66666666',), ('这老师牛B，技术好还很幽默.超喜欢。',), ('不错不错',))\n"
     ]
    }
   ],
   "source": [
    "conn = pymysql.connect(user='root', password='ren12345678',db='crawler_base3')\n",
    "cur = conn.cursor()\n",
    "cur.execute('select * from tencent_comment')\n",
    "print(cur.fetchall())#显示表中的全部数据\n",
    "# 关闭连接、关闭对象\n",
    "conn.close()\n",
    "cur.close()"
   ]
  },
  {
   "cell_type": "markdown",
   "id": "779c61d2-ad04-4c0e-b875-eb8f6d031897",
   "metadata": {},
   "source": [
    "## b站单个视频获取"
   ]
  },
  {
   "cell_type": "code",
   "execution_count": 4,
   "id": "68b292bf-5913-4978-ae77-f0af109d2563",
   "metadata": {},
   "outputs": [],
   "source": [
    "url = 'https://cn-sh-fx-01-02.bilivideo.com/upgcxcode/38/14/1244691438/1244691438-1-30064.m4s?e=ig8euxZM2rNcNbdlhoNvNC8BqJIzNbfqXBvEqxTEto8BTrNvN0GvT90W5JZMkX_YN0MvXg8gNEV4NC8xNEV4N03eN0B5tZlqNxTEto8BTrNvNeZVuJ10Kj_g2UB02J0mN0B5tZlqNCNEto8BTrNvNC7MTX502C8f2jmMQJ6mqF2fka1mqx6gqj0eN0B599M=&uipk=5&nbs=1&cdnid=3741&bvc=vod&nettype=0&orderid=0,3&buvid=1D035973-397E-EA79-AB78-842BEC1CE7D232480infoc&build=0&f=u_0_0&agrr=1&bw=72416&np=151355481&logo=80000000'\n"
   ]
  },
  {
   "cell_type": "code",
   "execution_count": 5,
   "id": "fbaf7fd4-12aa-484a-a6e7-a72ce87d4880",
   "metadata": {
    "tags": []
   },
   "outputs": [],
   "source": [
    "# 这样获取到的视频是没有声音的\n",
    "import os\n",
    "url = 'https://cn-sh-fx-01-07.bilivideo.com/upgcxcode/55/08/1462260855/1462260855-1-30280.m4s?e=ig8euxZM2rNcNbdlhoNvNC8BqJIzNbfqXBvEqxTEto8BTrNvN0GvT90W5JZMkX_YN0MvXg8gNEV4NC8xNEV4N03eN0B5tZlqNxTEto8BTrNvNeZVuJ10Kj_g2UB02J0mN0B5tZlqNCNEto8BTrNvNC7MTX502C8f2jmMQJ6mqF2fka1mqx6gqj0eN0B599M=&uipk=5&nbs=1&deadline=1711820358&gen=playurlv2&os=bcache&oi=994980002&trid=00005ea2abfc405d4bedad9e4cd1970199d1u&mid=629262317&platform=pc&upsig=f650b3052dc0f7c9898db1247b99c2a5&uparams=e,uipk,nbs,deadline,gen,os,oi,trid,mid,platform&cdnid=3746&bvc=vod&nettype=0&orderid=0,3&buvid=1D035973-397E-EA79-AB78-842BEC1CE7D232480infoc&build=0&f=u_0_0&agrr=0&bw=14302&np=151355481&logo=80000000'\n",
    "headers = {\n",
    "    'User-Agent': 'Mozilla/5.0 (Windows NT 10.0; Win64; x64) AppleWebKit/537.36 (KHTML, like Gecko) Chrome/123.0.0.0 Safari/537.36',\n",
    "    'Referer':'https://www.bilibili.com/video/BV12W421w7X8?p=54&vd_source=9463ebd56d815cf061e0d53d7b3df104'\n",
    "}\n",
    "res = requests.get(url,headers = headers)\n",
    "# 图片保存路径\n",
    "save_folder_video = r\"C:\\Users\\rencan\\Videos\" # \\U有歧义，所以加原始编译符r\n",
    "video_name = '慢慢喜欢你.mp4'\n",
    "save_path = os.path.join(save_folder_video, video_name)\n",
    "try:\n",
    "    os.remove(save_path)\n",
    "except:\n",
    "    pass\n",
    "if res.status_code == 200:\n",
    "    with open(save_path,'wb') as f:\n",
    "        f.write(res.content)\n",
    "else:\n",
    "    print('服务器响应问题')"
   ]
  },
  {
   "cell_type": "code",
   "execution_count": 6,
   "id": "87a8f71a-2d9f-4633-9ea3-889dc3269fd5",
   "metadata": {
    "tags": []
   },
   "outputs": [],
   "source": [
    "# 获取到有声音的视频（两个url）\n",
    "url = 'https://cn-sh-fx-01-06.bilivideo.com/upgcxcode/55/08/1462260855/1462260855-1-100024.m4s?e=ig8euxZM2rNcNbdlhoNvNC8BqJIzNbfqXBvEqxTEto8BTrNvN0GvT90W5JZMkX_YN0MvXg8gNEV4NC8xNEV4N03eN0B5tZlqNxTEto8BTrNvNeZVuJ10Kj_g2UB02J0mN0B5tZlqNCNEto8BTrNvNC7MTX502C8f2jmMQJ6mqF2fka1mqx6gqj0eN0B599M=&uipk=5&nbs=1&deadline=1711820589&gen=playurlv2&os=bcache&oi=994980002&trid=00009fc110964b2a4573af958769d5c5fddbu&mid=629262317&platform=pc&upsig=bfd3230f400c158b57231c5e5bc15d1d&uparams=e,uipk,nbs,deadline,gen,os,oi,trid,mid,platform&cdnid=3745&bvc=vod&nettype=0&orderid=0,3&buvid=1D035973-397E-EA79-AB78-842BEC1CE7D232480infoc&build=0&f=u_0_0&agrr=0&bw=37955&np=151355481&logo=80000000'\n",
    "res = requests.get(url,headers = headers)\n",
    "# 图片保存路径\n",
    "save_folder_video = r\"C:\\Users\\rencan\\Videos\" # \\U有歧义，所以加原始编译符r\n",
    "video_name = '慢慢喜欢你(画面).mp4'\n",
    "save_path = os.path.join(save_folder_video, video_name)\n",
    "try:\n",
    "    os.remove(save_path)\n",
    "except:\n",
    "    pass\n",
    "if res.status_code == 200:\n",
    "    with open(save_path,'wb') as f:\n",
    "        f.write(res.content)\n",
    "else:\n",
    "    print('服务器响应问题')"
   ]
  },
  {
   "cell_type": "code",
   "execution_count": 8,
   "id": "1d96f0b6-99c8-4261-a12f-abc3360b472f",
   "metadata": {
    "tags": []
   },
   "outputs": [
    {
     "name": "stdout",
     "output_type": "stream",
     "text": [
      "Moviepy - Building video C:\\Users\\rencan\\Videos\\天若有情(完整).mp4.\n",
      "MoviePy - Writing audio in 天若有情(完整)TEMP_MPY_wvf_snd.mp3\n"
     ]
    },
    {
     "name": "stderr",
     "output_type": "stream",
     "text": [
      "                                                                      \r"
     ]
    },
    {
     "name": "stdout",
     "output_type": "stream",
     "text": [
      "MoviePy - Done.\n",
      "Moviepy - Writing video C:\\Users\\rencan\\Videos\\天若有情(完整).mp4\n",
      "\n"
     ]
    },
    {
     "name": "stderr",
     "output_type": "stream",
     "text": [
      "                                                                 \r"
     ]
    },
    {
     "name": "stdout",
     "output_type": "stream",
     "text": [
      "Moviepy - Done !\n",
      "Moviepy - video ready C:\\Users\\rencan\\Videos\\天若有情(完整).mp4\n"
     ]
    }
   ],
   "source": [
    "# 合成\n",
    "from moviepy.editor import *\n",
    "vd = VideoFileClip(r\"C:\\Users\\rencan\\Videos\\慢慢喜欢你(画面).mp4\")\n",
    "ad = AudioFileClip(r\"C:\\Users\\rencan\\Videos\\慢慢喜欢你.mp4\")\n",
    "vd2 = vd.set_audio(ad)\n",
    "\n",
    "# 获取视频剪辑的帧速率\n",
    "fps = vd2.fps\n",
    "\n",
    "# 写入视频文件，指定正确的帧速率\n",
    "vd2.write_videofile(r\"C:\\Users\\rencan\\Videos\\慢慢喜欢你(完整).mp4\", fps=fps)"
   ]
  },
  {
   "cell_type": "markdown",
   "id": "0549db5e-8ae5-4fac-a47e-3f6982a906fa",
   "metadata": {
    "tags": []
   },
   "source": [
    "## 单个视频的获取加强"
   ]
  },
  {
   "cell_type": "code",
   "execution_count": 30,
   "id": "08004667-717d-4a36-b943-634f4f0b7b6f",
   "metadata": {
    "tags": []
   },
   "outputs": [
    {
     "data": {
      "text/plain": [
       "23.976023976023978"
      ]
     },
     "execution_count": 30,
     "metadata": {},
     "output_type": "execute_result"
    }
   ],
   "source": [
    "vd.fps"
   ]
  },
  {
   "cell_type": "code",
   "execution_count": null,
   "id": "447f9c77-e3c7-426d-8096-c2338c9fd257",
   "metadata": {},
   "outputs": [],
   "source": []
  }
 ],
 "metadata": {
  "kernelspec": {
   "display_name": "Python 3 (ipykernel)",
   "language": "python",
   "name": "python3"
  },
  "language_info": {
   "codemirror_mode": {
    "name": "ipython",
    "version": 3
   },
   "file_extension": ".py",
   "mimetype": "text/x-python",
   "name": "python",
   "nbconvert_exporter": "python",
   "pygments_lexer": "ipython3",
   "version": "3.11.5"
  }
 },
 "nbformat": 4,
 "nbformat_minor": 5
}

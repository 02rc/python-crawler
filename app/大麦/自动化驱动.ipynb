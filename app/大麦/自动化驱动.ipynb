{
 "cells": [
  {
   "cell_type": "markdown",
   "id": "089cbcce-5606-4609-b9d7-fbfbb95e9f3e",
   "metadata": {},
   "source": [
    "# Airtest框架"
   ]
  },
  {
   "cell_type": "code",
   "execution_count": null,
   "id": "ecb02d5c-cb98-4b6f-8462-b1383d6a737d",
   "metadata": {},
   "outputs": [],
   "source": []
  }
 ],
 "metadata": {
  "kernelspec": {
   "display_name": "Python 3 (ipykernel)",
   "language": "python",
   "name": "python3"
  },
  "language_info": {
   "codemirror_mode": {
    "name": "ipython",
    "version": 3
   },
   "file_extension": ".py",
   "mimetype": "text/x-python",
   "name": "python",
   "nbconvert_exporter": "python",
   "pygments_lexer": "ipython3",
   "version": "3.9.19"
  }
 },
 "nbformat": 4,
 "nbformat_minor": 5
}

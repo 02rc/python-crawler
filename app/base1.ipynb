{
 "cells": [
  {
   "cell_type": "markdown",
   "id": "84d65998-e7a6-4918-bfbe-68b5cfa3911a",
   "metadata": {},
   "source": [
    "随着互联网时代的发展，现在越来越多的公司都选择将数据放到 App 上面，甚至有些公司只有 App 没有网站。所以数据只能通过 App 来爬。 咋爬呢？基本的就是抓包工具了，Charles、Fiddler 一把梭，抓到接口之后，直接拿来模拟就行了。 如果接口有加密参数怎么办呢？一种方法你可以边爬边处理，比如 mitmproxy 直接监听接口数据。另一方面你可以走 Hook，比如上 Xposed 也可以拿到。 那爬的时候又怎么实现自动化呢？总不能拿手来戳吧。其实工具也多，安卓原生的 adb 工具也行，Appium 现在已经是比较主流的方案了，当然还有其他的某精灵都是可以实现的。 最后，有的时候可能真的就不想走自动化的流程，我就想把里面的一些接口逻辑抠出来，那就得搞逆向了，IDA Pro、jdax、FRIDA 等工具就派上用场了，当然这个过程和 JavaScript 逆向一样很痛苦，甚至可能得读汇编指令。"
   ]
  },
  {
   "cell_type": "code",
   "execution_count": 1,
   "id": "f3a865b1-6927-441c-a22a-fcc541896caa",
   "metadata": {},
   "outputs": [
    {
     "name": "stdout",
     "output_type": "stream",
     "text": [
      "Python version:  3.9.19 (main, Mar 21 2024, 17:21:27) [MSC v.1916 64 bit (AMD64)]\n",
      "Conda environment:  C:\\ProgramData\\Anaconda3\\envs\\appium_env\\python.exe\n"
     ]
    }
   ],
   "source": [
    "import sys\n",
    "print(\"Python version: \", sys.version)\n",
    "print(\"Conda environment: \", sys.executable)"
   ]
  },
  {
   "cell_type": "markdown",
   "id": "0b790895-0e62-49ef-8bba-f29829974008",
   "metadata": {},
   "source": [
    "# airtest\n",
    "一个跨平台的UI自动化测试框架，支持iOS、Android和Windows平台，可以通过Python的airtest库来使用"
   ]
  },
  {
   "cell_type": "code",
   "execution_count": 1,
   "id": "1f7bbaee-d893-4e01-9831-887e12925e02",
   "metadata": {
    "collapsed": true,
    "jupyter": {
     "outputs_hidden": true
    },
    "tags": []
   },
   "outputs": [
    {
     "name": "stderr",
     "output_type": "stream",
     "text": [
      "[17:42:00][DEBUG]<airtest.core.android.adb> C:\\ProgramData\\Anaconda3\\Lib\\site-packages\\airtest\\core\\android\\static\\adb\\windows\\adb.exe devices\n"
     ]
    },
    {
     "ename": "IndexError",
     "evalue": "ADB devices not found",
     "output_type": "error",
     "traceback": [
      "\u001b[1;31m---------------------------------------------------------------------------\u001b[0m",
      "\u001b[1;31mIndexError\u001b[0m                                Traceback (most recent call last)",
      "Cell \u001b[1;32mIn[1], line 4\u001b[0m\n\u001b[0;32m      1\u001b[0m \u001b[38;5;28;01mfrom\u001b[39;00m \u001b[38;5;21;01mairtest\u001b[39;00m\u001b[38;5;21;01m.\u001b[39;00m\u001b[38;5;21;01mcore\u001b[39;00m\u001b[38;5;21;01m.\u001b[39;00m\u001b[38;5;21;01mapi\u001b[39;00m \u001b[38;5;28;01mimport\u001b[39;00m \u001b[38;5;241m*\u001b[39m\n\u001b[0;32m      3\u001b[0m \u001b[38;5;66;03m# 使用connect_device方法连接Android设备\u001b[39;00m\n\u001b[1;32m----> 4\u001b[0m \u001b[43mconnect_device\u001b[49m\u001b[43m(\u001b[49m\u001b[38;5;124;43m\"\u001b[39;49m\u001b[38;5;124;43mAndroid:///\u001b[39;49m\u001b[38;5;124;43m\"\u001b[39;49m\u001b[43m)\u001b[49m\n",
      "File \u001b[1;32mC:\\ProgramData\\Anaconda3\\lib\\site-packages\\airtest\\utils\\logwraper.py:131\u001b[0m, in \u001b[0;36mLogwrap.<locals>.wrapper\u001b[1;34m(*args, **kwargs)\u001b[0m\n\u001b[0;32m    129\u001b[0m logger\u001b[38;5;241m.\u001b[39mrunning_stack\u001b[38;5;241m.\u001b[39mappend(fndata)\n\u001b[0;32m    130\u001b[0m \u001b[38;5;28;01mtry\u001b[39;00m:\n\u001b[1;32m--> 131\u001b[0m     res \u001b[38;5;241m=\u001b[39m f(\u001b[38;5;241m*\u001b[39margs, \u001b[38;5;241m*\u001b[39m\u001b[38;5;241m*\u001b[39mkwargs)\n\u001b[0;32m    132\u001b[0m \u001b[38;5;28;01mexcept\u001b[39;00m \u001b[38;5;167;01mException\u001b[39;00m \u001b[38;5;28;01mas\u001b[39;00m e:\n\u001b[0;32m    133\u001b[0m     data \u001b[38;5;241m=\u001b[39m {\u001b[38;5;124m\"\u001b[39m\u001b[38;5;124mtraceback\u001b[39m\u001b[38;5;124m\"\u001b[39m: traceback\u001b[38;5;241m.\u001b[39mformat_exc(), \u001b[38;5;124m\"\u001b[39m\u001b[38;5;124mend_time\u001b[39m\u001b[38;5;124m\"\u001b[39m: time\u001b[38;5;241m.\u001b[39mtime()}\n",
      "File \u001b[1;32mC:\\ProgramData\\Anaconda3\\lib\\site-packages\\airtest\\core\\api.py:74\u001b[0m, in \u001b[0;36mconnect_device\u001b[1;34m(uri)\u001b[0m\n\u001b[0;32m     50\u001b[0m \u001b[38;5;250m\u001b[39m\u001b[38;5;124;03m\"\"\"\u001b[39;00m\n\u001b[0;32m     51\u001b[0m \u001b[38;5;124;03mInitialize device with uri, and set as current device.\u001b[39;00m\n\u001b[0;32m     52\u001b[0m \n\u001b[1;32m   (...)\u001b[0m\n\u001b[0;32m     71\u001b[0m \n\u001b[0;32m     72\u001b[0m \u001b[38;5;124;03m\"\"\"\u001b[39;00m\n\u001b[0;32m     73\u001b[0m platform, uuid, params \u001b[38;5;241m=\u001b[39m parse_device_uri(uri)\n\u001b[1;32m---> 74\u001b[0m dev \u001b[38;5;241m=\u001b[39m init_device(platform, uuid, \u001b[38;5;241m*\u001b[39m\u001b[38;5;241m*\u001b[39mparams)\n\u001b[0;32m     75\u001b[0m \u001b[38;5;28;01mreturn\u001b[39;00m dev\n",
      "File \u001b[1;32mC:\\ProgramData\\Anaconda3\\lib\\site-packages\\airtest\\core\\api.py:42\u001b[0m, in \u001b[0;36minit_device\u001b[1;34m(platform, uuid, **kwargs)\u001b[0m\n\u001b[0;32m     29\u001b[0m \u001b[38;5;250m\u001b[39m\u001b[38;5;124;03m\"\"\"\u001b[39;00m\n\u001b[0;32m     30\u001b[0m \u001b[38;5;124;03mInitialize device if not yet, and set as current device.\u001b[39;00m\n\u001b[0;32m     31\u001b[0m \n\u001b[1;32m   (...)\u001b[0m\n\u001b[0;32m     39\u001b[0m \u001b[38;5;124;03m    >>> init_device(platform=\"Windows\",uuid=\"123456\")\u001b[39;00m\n\u001b[0;32m     40\u001b[0m \u001b[38;5;124;03m\"\"\"\u001b[39;00m\n\u001b[0;32m     41\u001b[0m \u001b[38;5;28mcls\u001b[39m \u001b[38;5;241m=\u001b[39m import_device_cls(platform)\n\u001b[1;32m---> 42\u001b[0m dev \u001b[38;5;241m=\u001b[39m \u001b[38;5;28mcls\u001b[39m(uuid, \u001b[38;5;241m*\u001b[39m\u001b[38;5;241m*\u001b[39mkwargs)\n\u001b[0;32m     43\u001b[0m \u001b[38;5;66;03m# Add device instance in G and set as current device.\u001b[39;00m\n\u001b[0;32m     44\u001b[0m G\u001b[38;5;241m.\u001b[39madd_device(dev)\n",
      "File \u001b[1;32mC:\\ProgramData\\Anaconda3\\lib\\site-packages\\airtest\\core\\android\\android.py:49\u001b[0m, in \u001b[0;36mAndroid.__init__\u001b[1;34m(self, serialno, host, cap_method, touch_method, ime_method, ori_method, display_id, input_event, adb_path, name)\u001b[0m\n\u001b[0;32m     39\u001b[0m \u001b[38;5;28;01mdef\u001b[39;00m \u001b[38;5;21m__init__\u001b[39m(\u001b[38;5;28mself\u001b[39m, serialno\u001b[38;5;241m=\u001b[39m\u001b[38;5;28;01mNone\u001b[39;00m, host\u001b[38;5;241m=\u001b[39m\u001b[38;5;28;01mNone\u001b[39;00m,\n\u001b[0;32m     40\u001b[0m              cap_method\u001b[38;5;241m=\u001b[39mCAP_METHOD\u001b[38;5;241m.\u001b[39mMINICAP,\n\u001b[0;32m     41\u001b[0m              touch_method\u001b[38;5;241m=\u001b[39mTOUCH_METHOD\u001b[38;5;241m.\u001b[39mMINITOUCH,\n\u001b[1;32m   (...)\u001b[0m\n\u001b[0;32m     46\u001b[0m              adb_path\u001b[38;5;241m=\u001b[39m\u001b[38;5;28;01mNone\u001b[39;00m,\n\u001b[0;32m     47\u001b[0m              name\u001b[38;5;241m=\u001b[39m\u001b[38;5;28;01mNone\u001b[39;00m):\n\u001b[0;32m     48\u001b[0m     \u001b[38;5;28msuper\u001b[39m(Android, \u001b[38;5;28mself\u001b[39m)\u001b[38;5;241m.\u001b[39m\u001b[38;5;21m__init__\u001b[39m()\n\u001b[1;32m---> 49\u001b[0m     \u001b[38;5;28mself\u001b[39m\u001b[38;5;241m.\u001b[39mserialno \u001b[38;5;241m=\u001b[39m serialno \u001b[38;5;129;01mor\u001b[39;00m \u001b[38;5;28;43mself\u001b[39;49m\u001b[38;5;241;43m.\u001b[39;49m\u001b[43mget_default_device\u001b[49m\u001b[43m(\u001b[49m\u001b[43madb_path\u001b[49m\u001b[38;5;241;43m=\u001b[39;49m\u001b[43madb_path\u001b[49m\u001b[43m)\u001b[49m\n\u001b[0;32m     50\u001b[0m     \u001b[38;5;28mself\u001b[39m\u001b[38;5;241m.\u001b[39m_uuid \u001b[38;5;241m=\u001b[39m name \u001b[38;5;129;01mor\u001b[39;00m \u001b[38;5;28mself\u001b[39m\u001b[38;5;241m.\u001b[39mserialno\n\u001b[0;32m     51\u001b[0m     \u001b[38;5;28mself\u001b[39m\u001b[38;5;241m.\u001b[39m_cap_method \u001b[38;5;241m=\u001b[39m cap_method\u001b[38;5;241m.\u001b[39mupper()\n",
      "File \u001b[1;32mC:\\ProgramData\\Anaconda3\\lib\\site-packages\\airtest\\core\\android\\android.py:311\u001b[0m, in \u001b[0;36mAndroid.get_default_device\u001b[1;34m(self, adb_path)\u001b[0m\n\u001b[0;32m    303\u001b[0m \u001b[38;5;250m\u001b[39m\u001b[38;5;124;03m\"\"\"\u001b[39;00m\n\u001b[0;32m    304\u001b[0m \u001b[38;5;124;03mGet local default device when no serialno\u001b[39;00m\n\u001b[0;32m    305\u001b[0m \n\u001b[1;32m   (...)\u001b[0m\n\u001b[0;32m    308\u001b[0m \n\u001b[0;32m    309\u001b[0m \u001b[38;5;124;03m\"\"\"\u001b[39;00m\n\u001b[0;32m    310\u001b[0m \u001b[38;5;28;01mif\u001b[39;00m \u001b[38;5;129;01mnot\u001b[39;00m ADB(adb_path\u001b[38;5;241m=\u001b[39madb_path)\u001b[38;5;241m.\u001b[39mdevices(state\u001b[38;5;241m=\u001b[39m\u001b[38;5;124m\"\u001b[39m\u001b[38;5;124mdevice\u001b[39m\u001b[38;5;124m\"\u001b[39m):\n\u001b[1;32m--> 311\u001b[0m     \u001b[38;5;28;01mraise\u001b[39;00m \u001b[38;5;167;01mIndexError\u001b[39;00m(\u001b[38;5;124m\"\u001b[39m\u001b[38;5;124mADB devices not found\u001b[39m\u001b[38;5;124m\"\u001b[39m)\n\u001b[0;32m    312\u001b[0m \u001b[38;5;28;01mreturn\u001b[39;00m ADB(adb_path\u001b[38;5;241m=\u001b[39madb_path)\u001b[38;5;241m.\u001b[39mdevices(state\u001b[38;5;241m=\u001b[39m\u001b[38;5;124m\"\u001b[39m\u001b[38;5;124mdevice\u001b[39m\u001b[38;5;124m\"\u001b[39m)[\u001b[38;5;241m0\u001b[39m][\u001b[38;5;241m0\u001b[39m]\n",
      "\u001b[1;31mIndexError\u001b[0m: ADB devices not found"
     ]
    }
   ],
   "source": [
    "from airtest.core.api import *\n",
    "\n",
    "# 使用connect_device方法连接Android设备\n",
    "connect_device(\"Android:///\")"
   ]
  },
  {
   "cell_type": "markdown",
   "id": "c6a7f76b-a540-44ed-8272-905de67326c4",
   "metadata": {},
   "source": [
    "# Appium\n",
    "Appium 是基于 WebDriver 协议的移动应用自动化测试框架，它通过模拟用户的操作来与移动应用进行交互。Appium 支持多种编程语言（如Python、Java、JavaScript等），可以跨平台（iOS、Android、Windows），并且可以使用标准的 Selenium WebDriver API 进行操作。"
   ]
  },
  {
   "cell_type": "code",
   "execution_count": 2,
   "id": "217251ac-b2c3-4cb3-a831-d08ef17c09eb",
   "metadata": {},
   "outputs": [],
   "source": [
    "from appium import webdriver"
   ]
  },
  {
   "cell_type": "code",
   "execution_count": null,
   "id": "caee448c-c209-4bdc-8964-ac0341f68d7c",
   "metadata": {},
   "outputs": [],
   "source": []
  }
 ],
 "metadata": {
  "kernelspec": {
   "display_name": "Python (appium_env)",
   "language": "python",
   "name": "appium_env"
  },
  "language_info": {
   "codemirror_mode": {
    "name": "ipython",
    "version": 3
   },
   "file_extension": ".py",
   "mimetype": "text/x-python",
   "name": "python",
   "nbconvert_exporter": "python",
   "pygments_lexer": "ipython3",
   "version": "3.9.19"
  }
 },
 "nbformat": 4,
 "nbformat_minor": 5
}

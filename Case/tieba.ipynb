{
 "cells": [
  {
   "cell_type": "code",
   "execution_count": 2,
   "id": "acda9d83-0b78-4592-a896-4a28dc1456fa",
   "metadata": {},
   "outputs": [],
   "source": [
    "# 贴吧单页获取\n",
    "import requests\n",
    "import os\n",
    "url = 'https://tieba.baidu.com/f?ie=utf-8&kw=%E5%AD%99%E7%AC%91%E5%B7%9D&fr=search'\n",
    "res1 = requests.get(url)\n",
    "# 图片保存路径\n",
    "save_folder_image = r'C:\\Users\\Administrator\\Pictures' # \\U有歧义，所以加原始编译符r\n",
    "image_name = '笑川.html'\n",
    "save_path = os.path.join(save_folder_image, image_name)\n",
    "# 保存图片\n",
    "with open(save_path,'wb') as f:\n",
    "    f.write(res1.content)\n"
   ]
  },
  {
   "cell_type": "code",
   "execution_count": 13,
   "id": "3ffd6a43-d259-4293-bac8-0542ad7b499c",
   "metadata": {},
   "outputs": [
    {
     "name": "stdin",
     "output_type": "stream",
     "text": [
      "请输入吧名： 图拉丁\n",
      "请输入保存的页数： 1\n"
     ]
    },
    {
     "ename": "TypeError",
     "evalue": "write() argument must be str, not bytes",
     "output_type": "error",
     "traceback": [
      "\u001b[1;31m---------------------------------------------------------------------------\u001b[0m",
      "\u001b[1;31mTypeError\u001b[0m                                 Traceback (most recent call last)",
      "Cell \u001b[1;32mIn[13], line 25\u001b[0m\n\u001b[0;32m     23\u001b[0m \u001b[38;5;66;03m# 保存图片\u001b[39;00m\n\u001b[0;32m     24\u001b[0m \u001b[38;5;28;01mwith\u001b[39;00m \u001b[38;5;28mopen\u001b[39m(save_path,\u001b[38;5;124m'\u001b[39m\u001b[38;5;124mw\u001b[39m\u001b[38;5;124m'\u001b[39m) \u001b[38;5;28;01mas\u001b[39;00m f:\n\u001b[1;32m---> 25\u001b[0m     \u001b[43mf\u001b[49m\u001b[38;5;241;43m.\u001b[39;49m\u001b[43mwrite\u001b[49m\u001b[43m(\u001b[49m\u001b[43mresponses\u001b[49m\u001b[38;5;241;43m.\u001b[39;49m\u001b[43mcontent\u001b[49m\u001b[43m)\u001b[49m\n",
      "\u001b[1;31mTypeError\u001b[0m: write() argument must be str, not bytes"
     ]
    }
   ],
   "source": [
    "# 贴吧翻页\n",
    "# https://tieba.baidu.com/f?ie=utf-8&kw=%E5%AD%99%E7%AC%91%E5%B7%9D&fr=search\n",
    "# https://tieba.baidu.com/f?kw=%E5%AD%99%E7%AC%91%E5%B7%9D&ie=utf-8&pn=0\n",
    "# https://tieba.baidu.com/f?kw=%E5%AD%99%E7%AC%91%E5%B7%9D&ie=utf-8&pn=50\n",
    "# https://tieba.baidu.com/f?kw=%E5%AD%99%E7%AC%91%E5%B7%9D&ie=utf-8&pn=100\n",
    "# https://tieba.baidu.com/f?kw=%E5%AD%99%E7%AC%91%E5%B7%9D&ie=utf-8&pn=150\n",
    "from fake_useragent import UserAgent\n",
    "url = 'https://tieba.baidu.com/f?'\n",
    "headers = {\n",
    "'User-Agent':UserAgent().random\n",
    "}\n",
    "word = input('请输入吧名：')\n",
    "page = int(input('请输入保存的页数：'))\n",
    "save_folder_image = r'C:\\Users\\Administrator\\Pictures' # \\U有歧义，所以加原始编译符r\n",
    "for i in range(page):\n",
    "    param = {\n",
    "    'kw' : word,\n",
    "    'pn' : i*50\n",
    "    }\n",
    "    responses = requests.get(url,headers=headers,params=param)\n",
    "    html_name = f'{word}{i+1}.html'\n",
    "    save_path = os.path.join(save_folder_image, html_name)\n",
    "    # 保存图片\n",
    "    with open(save_path,'wb') as f:\n",
    "        f.write(responses.content)\n"
   ]
  },
  {
   "cell_type": "code",
   "execution_count": 19,
   "id": "b4253ccb-9e3b-4afb-b4ef-76ed3ab98a10",
   "metadata": {},
   "outputs": [
    {
     "name": "stdin",
     "output_type": "stream",
     "text": [
      "请输入吧名： 图拉丁\n",
      "请输入保存的页数： 1\n"
     ]
    }
   ],
   "source": [
    "# 改写为面向对象\n",
    "class tieba:\n",
    "    def __init__(self):\n",
    "        self.url = 'https://tieba.baidu.com/f?'\n",
    "        self.headers = {\n",
    "            'User-Agent': 'Mozilla/5.0 (Windows NT 10.0; Win64; x64) AppleWebKit/537.36 (KHTML, like Gecko) Chrome/123.0.0.0 Safari/537.36'\n",
    "        }\n",
    "    def sent(self, param):\n",
    "        res = requests.get(self.url, headers=self.headers, params=param)\n",
    "        return res.text\n",
    "    def save(self, page, con):\n",
    "        save_folder_image = r'C:\\Users\\Administrator\\Pictures'\n",
    "        html_name = f'{page}.html'\n",
    "        save_path = os.path.join(save_folder_image, html_name)\n",
    "        # 保存网页内容\n",
    "        with open(save_path, 'w', encoding='utf-8') as f:\n",
    "            f.write(con)\n",
    "    def run(self):\n",
    "        word = input('请输入吧名：')\n",
    "        pages = int(input('请输入保存的页数：'))\n",
    "        for page in range(pages):\n",
    "            param = {\n",
    "                'kw': word,\n",
    "                'pn': page * 50\n",
    "            }\n",
    "            data = self.sent(param)\n",
    "            self.save(page, data)\n",
    "te = tieba()\n",
    "te.run()"
   ]
  },
  {
   "cell_type": "code",
   "execution_count": null,
   "id": "5294209f-263a-44df-a088-fd96b1d27a53",
   "metadata": {},
   "outputs": [],
   "source": []
  }
 ],
 "metadata": {
  "kernelspec": {
   "display_name": "Python 3 (ipykernel)",
   "language": "python",
   "name": "python3"
  },
  "language_info": {
   "codemirror_mode": {
    "name": "ipython",
    "version": 3
   },
   "file_extension": ".py",
   "mimetype": "text/x-python",
   "name": "python",
   "nbconvert_exporter": "python",
   "pygments_lexer": "ipython3",
   "version": "3.9.19"
  }
 },
 "nbformat": 4,
 "nbformat_minor": 5
}

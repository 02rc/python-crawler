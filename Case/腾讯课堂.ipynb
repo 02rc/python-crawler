{
 "cells": [
  {
   "cell_type": "markdown",
   "id": "0fabc346-73c6-4295-9889-ccfa28aedcb1",
   "metadata": {},
   "source": [
    "# 腾讯课堂评论分析"
   ]
  },
  {
   "cell_type": "code",
   "execution_count": 1,
   "id": "d1fb469f-7ca6-4ae3-b8cb-0cf806dbf03e",
   "metadata": {
    "collapsed": true,
    "jupyter": {
     "outputs_hidden": true
    },
    "tags": []
   },
   "outputs": [
    {
     "data": {
      "text/plain": [
       "['老师讲的非常好，感谢老师！以后多多努力！',\n",
       " '特别好的一套教程。值得全网学习和推荐。',\n",
       " ' 裴帅是我第一个3dsmax老师 从基础我就一直跟着老师学习 老师的讲解非常细致 思路清晰 非常适合我 别具特色的普通话也非常有特色 有亲和力 随时提问 老师只要有空 就会马上解答 一直都非常喜欢老师的课程 会一直支持老师！！！',\n",
       " '讲的不错，好好学习，天天向上。毕竟是腾讯课堂主办的嘛',\n",
       " 'مذميتنستمسانسمتمستتسهنستصعستاسنطساطنسانطاس انا ساياسخسعخسعسحعسماطعينعععيزهذلذتذغيزرطليدياساسزستسلرسلساسزستسلسسيليصايثضدقلد',\n",
       " '简单易懂 讲的很细 老师治学严谨，要求严格，能深入了解学生的学习和生活状况，循循善诱，平易近人;注意启发和调动学生的积极性，课堂气氛较为活跃;上课例题丰富，不厌其烦，细心讲解，使学生有所收获;半数认真工整，批改作业认真及时并注意讲解学生易犯错误;最重要的是，段老师能虚心并广泛听取学生的意见和反馈信息，做到及时修正和调整自己的教学。总之，段老师是一个不可多得的好教师。',\n",
       " '很详细的多边形建模，老师很幽默，老讲冷笑话。但是对于建模的思路跟我们讲的很明确，对于建模步骤的操作都很详细，建模中每一根布线都是有讲究的，让我们清楚的知道自己单独建模需要怎么做，其他max中运用到的技巧也都讲的很仔细，感谢老师，学到很多。',\n",
       " '裴老师讲得很详细，是裴老师让我有建模动力，很感谢。',\n",
       " '给力，老师讲的很好，非常受用，对我这种小白非常受用',\n",
       " '通俗易懂，言简意赅。通俗易懂，言简意赅。',\n",
       " '干货大王 顶顶顶顶顶顶顶顶顶顶',\n",
       " '非常的全面。学会多边形真的什么都能做。',\n",
       " '很实用的教程，希望老师能多出这样的',\n",
       " '裴老师的课基本都报了 从一个月前的纯白小白到现在能独立出图 虽然很多细节还需努力 但这一切的成果还是需要有一个强大的导师和教学，准备实习找工作了加油',\n",
       " '很好讲的很详细受益非浅以后多些这样的课',\n",
       " '喜欢3D对这个非常感兴趣，老师讲的比较细，特别喜欢，自己觉得进步也很大，继续加油！',\n",
       " '老师不错，讲解给你，内容全面，',\n",
       " '只说一个字：牛 。牛B大了 ，课程讲锝非常地好。',\n",
       " '干货很多，细节很多，技巧灵活，值得学',\n",
       " '老师讲的挺好的，学到了很多东西',\n",
       " '好看又好玩的课堂，非常棒！第一次有了感觉，原来高级建模也沒想象中的难！',\n",
       " '非常细致 很喜欢老师的课程，加油',\n",
       " '多边形建模是智慧，是艺术，玩多边形，玩出快乐',\n",
       " '感觉讲的有点糙，对于新手关键点没有讲清楚，没有听懂。',\n",
       " '老师真的是把多边形讲透了，非常棒，学到了很多东西，准备攒钱报班了',\n",
       " '我喜欢裴老师的讲课方式，幽默风趣，通俗易懂 ，听了很多公开课后最好的一位老师！向裴帅致敬！真心谢谢',\n",
       " '听裴老师讲课收获很大，深入浅出，解决了很多疑问，以后会一直坚持听课，相信自己会不断进步。',\n",
       " '裴老师的讲课幽默，风趣，易懂，易学。让我这个没有基础的人都能快速的听懂。了不起的裴帅老师。',\n",
       " '不错，非常有意思，也很有用，谢谢，',\n",
       " '超级棒，讲的很详细，看了很多遍了',\n",
       " '很不错，讲解的生动有趣。以后会一直关注的',\n",
       " '老师讲的很好！讲课很有趣！容易听懂！',\n",
       " '清晰易懂。非常详细！棒棒棒棒棒！',\n",
       " '裴帅的课程很有诚意 说话又好听 这口音100分',\n",
       " '可以的，有学到很多东西，感觉还不错',\n",
       " '软包也非常好玩，效果逼真，什么沙发都可以设计了，非常实用的技巧！',\n",
       " '真的讲的太好了，风趣幽默，通俗易懂。',\n",
       " '牛牛牛666牛牛牛666牛牛牛666牛牛牛666牛牛牛666',\n",
       " '怪不得口碑那么好，原来还是有原因的，反正一句话，这课值得听。',\n",
       " '异形的3d max真的很好玩。我要继续学下去。谢谢裴帅。！',\n",
       " '第一次听裴老师用这么通俗易懂的方言普通话，幽默且风趣，牛B',\n",
       " '非常好非常好非常好非常好非常好',\n",
       " '学会熟练使用3DMAX，让你创意无限，想画什么就画什么。',\n",
       " '好喜欢老师的口音啊哈哈哈哈哈哈，说的也很有趣，好评',\n",
       " '干货教程 算讲的很不错了 墙都不服就服你',\n",
       " '666.666.666.666.666！！！非常6',\n",
       " '老师很棒 感谢 多边形建模很有趣 ',\n",
       " '很不错，学的东西正好工作用上了',\n",
       " '这个老师真的讲的超棒的！我已经推荐给朋友了，不停后悔',\n",
       " '很ok！知识点很丰富讲解清晰，满满的干货！',\n",
       " '裴帅 讲得很到位 赞 希望有更多的视频',\n",
       " '非常非常非常非常牛，6666666666666',\n",
       " '听了一圈，还是觉得这位老师有水平，很好懂！',\n",
       " '半夜逛网站，发现这位老师的课确实牛，收藏起来慢慢看。',\n",
       " '五星 好评 裴帅老师 可讲的牛逼啊 都能听的懂',\n",
       " '老师系统讲解比较详细，通俗易懂！非常好',\n",
       " '这里面原来也有非常有用的免费课程，谢谢这位帅哥！',\n",
       " '裴帅太流弊了。。。。。。。。。。。。。。',\n",
       " '第一次见这么完美的软包制作，谢谢老师',\n",
       " '喜欢这种教学，有趣，能使我学的进去',\n",
       " '真正的装逼神器太好玩了,收藏起来慢慢学。',\n",
       " '一如既往的喜欢这个课程，兴趣越来越浓厚了！',\n",
       " '云龙课堂的每堂课都是精品，一点都不夸张！',\n",
       " '好好好，干货多，怪不得裴帅的学生越来越多。',\n",
       " '到这里居然还有免费的公开课，好好看看。',\n",
       " '授课方式十分接地气，很好的理解，更容易的理解',\n",
       " '老师的思路很清晰，通俗易懂，谢谢老师的教程。',\n",
       " '牛牛牛，非常牛，66666666',\n",
       " '这老师牛B，技术好还很幽默.超喜欢。',\n",
       " '不错不错']"
      ]
     },
     "metadata": {},
     "output_type": "display_data"
    }
   ],
   "source": [
    "import json\n",
    "import requests\n",
    "from jsonpath import jsonpath\n",
    "# https://ke.qq.com/cgi-bin/comment_new/course_comment_list?cid=276117&filter_rating=0&page=1&bkn=&r=0.5682\n",
    "url = 'https://ke.qq.com/cgi-bin/comment_new/course_comment_list?cid=276117&filter_rating=0'\n",
    "headers = {\n",
    "    'User-Agent': 'Mozilla/5.0 (Windows NT 10.0; Win64; x64) AppleWebKit/537.36 (KHTML, like Gecko) Chrome/123.0.0.0 Safari/537.36',\n",
    "    'Referer':'https://ke.qq.com/course/276117'\n",
    "}\n",
    "comment = []\n",
    "for i in range(7):\n",
    "    para = {\n",
    "        'page':i\n",
    "    }\n",
    "    res = requests.get(url, headers=headers, params=para, timeout=5)\n",
    "    res2 = json.loads(res.text)\n",
    "    result = jsonpath(res2,'$..first_comment')\n",
    "    comment.extend(result)\n",
    "display(comment)"
   ]
  },
  {
   "cell_type": "markdown",
   "id": "f75ec2ad-209e-47fa-b67a-119aef89aab8",
   "metadata": {},
   "source": [
    "# 腾讯课堂评论入库"
   ]
  },
  {
   "cell_type": "code",
   "execution_count": 3,
   "id": "26d02671-cd95-404b-9fe7-af47c641c307",
   "metadata": {
    "tags": []
   },
   "outputs": [],
   "source": [
    "import pymysql\n",
    "conn = pymysql.connect(user='root', password='ren12345678',db='crawler_base3')\n",
    "cur = conn.cursor()\n",
    "sql = 'DELETE FROM tencent_comment;'\n",
    "cur.execute(sql)\n",
    "for c in comment:\n",
    "    sql = 'insert into tencent_comment values (\"%s\")' % c\n",
    "    cur.execute(sql)\n",
    "\n",
    "# 提交\n",
    "conn.commit()\n",
    "conn.close()\n",
    "cur.close()"
   ]
  },
  {
   "cell_type": "code",
   "execution_count": null,
   "id": "d1eaf704-8239-4101-af0b-907e78efd778",
   "metadata": {},
   "outputs": [],
   "source": [
    "conn = pymysql.connect(user='root', password='ren12345678',db='crawler_base3')\n",
    "cur = conn.cursor()\n",
    "cur.execute('select * from tencent_comment')\n",
    "print(cur.fetchall())#显示表中的全部数据\n",
    "# 关闭连接、关闭对象\n",
    "conn.close()\n",
    "cur.close()"
   ]
  }
 ],
 "metadata": {
  "kernelspec": {
   "display_name": "Python 3 (ipykernel)",
   "language": "python",
   "name": "python3"
  },
  "language_info": {
   "codemirror_mode": {
    "name": "ipython",
    "version": 3
   },
   "file_extension": ".py",
   "mimetype": "text/x-python",
   "name": "python",
   "nbconvert_exporter": "python",
   "pygments_lexer": "ipython3",
   "version": "3.11.5"
  }
 },
 "nbformat": 4,
 "nbformat_minor": 5
}

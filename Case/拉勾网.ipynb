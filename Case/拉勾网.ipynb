{
 "cells": [
  {
   "cell_type": "markdown",
   "id": "f06b3966-e0ad-42c1-9170-5a0b1c292f03",
   "metadata": {},
   "source": [
    "# jsonpath的应用"
   ]
  },
  {
   "cell_type": "code",
   "execution_count": 1,
   "id": "3ac0f559-01f6-4a76-a6af-9e3547b3ae22",
   "metadata": {
    "tags": []
   },
   "outputs": [],
   "source": [
    "import json\n",
    "import requests\n",
    "from jsonpath import jsonpath\n",
    "url = 'https://www.lagou.com/lbs/getAllCitySearchLabels.json'\n",
    "headers = {\n",
    "    'User-Agent': 'Mozilla/5.0 (Windows NT 10.0; Win64; x64) AppleWebKit/537.36 (KHTML, like Gecko) Chrome/123.0.0.0 Safari/537.36',\n",
    "}\n",
    "dic = requests.get(url, headers=headers, timeout=10) # dic.text json格式\n",
    "py_dic = json.loads(dic.text)\n",
    "city_name = jsonpath(py_dic,'$..A[*].name')"
   ]
  },
  {
   "cell_type": "code",
   "execution_count": 2,
   "id": "ce0ed305-34c2-4b65-b78e-60309db14cc4",
   "metadata": {
    "tags": []
   },
   "outputs": [
    {
     "data": {
      "text/plain": [
       "['安阳', '安庆', '鞍山', '安康', '安顺', '澳门', '阿拉善盟', '阿坝藏族羌族自治州', '阿拉尔', '阿里地区']"
      ]
     },
     "execution_count": 2,
     "metadata": {},
     "output_type": "execute_result"
    }
   ],
   "source": [
    "city_name"
   ]
  },
  {
   "cell_type": "code",
   "execution_count": null,
   "id": "f906a101-2816-439a-a8f3-8cd6d04d9527",
   "metadata": {},
   "outputs": [],
   "source": []
  }
 ],
 "metadata": {
  "kernelspec": {
   "display_name": "Python 3 (ipykernel)",
   "language": "python",
   "name": "python3"
  },
  "language_info": {
   "codemirror_mode": {
    "name": "ipython",
    "version": 3
   },
   "file_extension": ".py",
   "mimetype": "text/x-python",
   "name": "python",
   "nbconvert_exporter": "python",
   "pygments_lexer": "ipython3",
   "version": "3.9.19"
  }
 },
 "nbformat": 4,
 "nbformat_minor": 5
}

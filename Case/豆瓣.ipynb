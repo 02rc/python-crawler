{
 "cells": [
  {
   "cell_type": "markdown",
   "id": "6393a020-1a22-425d-bf04-639795a90340",
   "metadata": {},
   "source": [
    "# 豆瓣电影翻页"
   ]
  },
  {
   "cell_type": "code",
   "execution_count": 36,
   "id": "2c75f834-b22b-41a0-908f-51d4ed19bce7",
   "metadata": {},
   "outputs": [],
   "source": [
    "# 爬不到数据，暂时宣告失败\n",
    "import requests\n",
    "\n",
    "url = 'https://movie.douban.com/j/chart/top_list?type=11\\&interval_id=100\\%3A90\\&action=\\&start=40\\&limit=20'\n",
    "\n",
    "headers = {\n",
    "    'User-Agent': 'Mozilla/5.0 (Windows NT 10.0; Win64; x64) AppleWebKit/537.36 (KHTML, like Gecko) Chrome/123.0.0.0 Safari/537.36',\n",
    "}\n",
    "\n",
    "res = requests.get(url, headers=headers)\n"
   ]
  },
  {
   "cell_type": "code",
   "execution_count": 37,
   "id": "0b2b1bca-c729-4cb2-8044-de8dbef272aa",
   "metadata": {},
   "outputs": [
    {
     "name": "stdout",
     "output_type": "stream",
     "text": [
      "\n",
      "<!DOCTYPE HTML PUBLIC \"-//W3C//DTD HTML 4.01 Transitional//EN\">\n",
      "<html><head>\n",
      "<meta http-equiv=\"Content-Type\" content=\"text/html; charset=utf-8\"/>\n",
      "<style type=\"text/css\">\n",
      "body{font-family:Arial,Helvetica,sans-serif;font-size:14px;}\n",
      "h1{font-size:25px;margin:25px 0 10px 0;}\n",
      "</style>\n",
      "<title>此应用出错了</title>\n",
      "</head>\n",
      "<body>\n",
      "       <div>\n",
      "       <div style=\"margin:20px auto;width:960px\">\n",
      "       <div style=\"font-size:25px;color:#1b9336;border-bottom:5px solid #eef9eb\"><span style=\"font-size:20px;font-weight:bold\">豆瓣</span> d<span style=\"color:#0092c8\">o</span><span style=\"color:#ffad68\">u</span><span>b</span><span style=\"color:#0092c8\">a</span><span style=\"color:#ffad68\">n</span>\n",
      "       </div>\n",
      "       <h1>此应用出错了</h1>\n",
      "       <div><p>请稍后再试</p></div>\n",
      "       </div>\n",
      "       </div>\n",
      "</body>\n",
      "</html>\n",
      "\n"
     ]
    }
   ],
   "source": [
    "print(res.text)"
   ]
  },
  {
   "cell_type": "markdown",
   "id": "783010e0-f148-4379-8d5e-e9e48972de1e",
   "metadata": {},
   "source": [
    "# 单页数据获取"
   ]
  },
  {
   "cell_type": "code",
   "execution_count": null,
   "id": "8e49e7de-378a-4b8e-9cd2-11c29bc6be90",
   "metadata": {},
   "outputs": [],
   "source": []
  }
 ],
 "metadata": {
  "kernelspec": {
   "display_name": "Python 3 (ipykernel)",
   "language": "python",
   "name": "python3"
  },
  "language_info": {
   "codemirror_mode": {
    "name": "ipython",
    "version": 3
   },
   "file_extension": ".py",
   "mimetype": "text/x-python",
   "name": "python",
   "nbconvert_exporter": "python",
   "pygments_lexer": "ipython3",
   "version": "3.11.5"
  }
 },
 "nbformat": 4,
 "nbformat_minor": 5
}

{
 "cells": [
  {
   "cell_type": "markdown",
   "id": "427bba39-1413-40d8-b8e6-897ad99255c5",
   "metadata": {},
   "source": [
    "# 单个视频获取"
   ]
  },
  {
   "cell_type": "code",
   "execution_count": null,
   "id": "49254030-c950-4377-ad32-57ffe99fd270",
   "metadata": {},
   "outputs": [],
   "source": [
    "# 这样获取到的视频是没有声音的\n",
    "import requests\n",
    "import os\n",
    "url = 'https://cn-sh-fx-01-07.bilivideo.com/upgcxcode/55/08/1462260855/1462260855-1-30280.m4s?e=ig8euxZM2rNcNbdlhoNvNC8BqJIzNbfqXBvEqxTEto8BTrNvN0GvT90W5JZMkX_YN0MvXg8gNEV4NC8xNEV4N03eN0B5tZlqNxTEto8BTrNvNeZVuJ10Kj_g2UB02J0mN0B5tZlqNCNEto8BTrNvNC7MTX502C8f2jmMQJ6mqF2fka1mqx6gqj0eN0B599M=&uipk=5&nbs=1&deadline=1711820358&gen=playurlv2&os=bcache&oi=994980002&trid=00005ea2abfc405d4bedad9e4cd1970199d1u&mid=629262317&platform=pc&upsig=f650b3052dc0f7c9898db1247b99c2a5&uparams=e,uipk,nbs,deadline,gen,os,oi,trid,mid,platform&cdnid=3746&bvc=vod&nettype=0&orderid=0,3&buvid=1D035973-397E-EA79-AB78-842BEC1CE7D232480infoc&build=0&f=u_0_0&agrr=0&bw=14302&np=151355481&logo=80000000'\n",
    "headers = {\n",
    "    'User-Agent': 'Mozilla/5.0 (Windows NT 10.0; Win64; x64) AppleWebKit/537.36 (KHTML, like Gecko) Chrome/123.0.0.0 Safari/537.36',\n",
    "    'Referer':'https://www.bilibili.com/video/BV12W421w7X8?p=54&vd_source=9463ebd56d815cf061e0d53d7b3df104'\n",
    "}\n",
    "res = requests.get(url,headers = headers)\n",
    "# 图片保存路径\n",
    "save_folder_video = r\"C:\\Users\\rencan\\Videos\" # \\U有歧义，所以加原始编译符r\n",
    "video_name = '慢慢喜欢你.mp4'\n",
    "save_path = os.path.join(save_folder_video, video_name)\n",
    "try:\n",
    "    os.remove(save_path)\n",
    "except:\n",
    "    pass\n",
    "if res.status_code == 200:\n",
    "    with open(save_path,'wb') as f:\n",
    "        f.write(res.content)\n",
    "else:\n",
    "    print('服务器响应问题')"
   ]
  },
  {
   "cell_type": "code",
   "execution_count": null,
   "id": "6762d8d5-6bbb-452e-a790-369c485a34d7",
   "metadata": {},
   "outputs": [],
   "source": [
    "# 获取到有声音的视频（两个url）\n",
    "url = 'https://cn-sh-fx-01-06.bilivideo.com/upgcxcode/55/08/1462260855/1462260855-1-100024.m4s?e=ig8euxZM2rNcNbdlhoNvNC8BqJIzNbfqXBvEqxTEto8BTrNvN0GvT90W5JZMkX_YN0MvXg8gNEV4NC8xNEV4N03eN0B5tZlqNxTEto8BTrNvNeZVuJ10Kj_g2UB02J0mN0B5tZlqNCNEto8BTrNvNC7MTX502C8f2jmMQJ6mqF2fka1mqx6gqj0eN0B599M=&uipk=5&nbs=1&deadline=1711820589&gen=playurlv2&os=bcache&oi=994980002&trid=00009fc110964b2a4573af958769d5c5fddbu&mid=629262317&platform=pc&upsig=bfd3230f400c158b57231c5e5bc15d1d&uparams=e,uipk,nbs,deadline,gen,os,oi,trid,mid,platform&cdnid=3745&bvc=vod&nettype=0&orderid=0,3&buvid=1D035973-397E-EA79-AB78-842BEC1CE7D232480infoc&build=0&f=u_0_0&agrr=0&bw=37955&np=151355481&logo=80000000'\n",
    "res = requests.get(url,headers = headers)\n",
    "# 图片保存路径\n",
    "save_folder_video = r\"C:\\Users\\rencan\\Videos\" # \\U有歧义，所以加原始编译符r\n",
    "video_name = '慢慢喜欢你(画面).mp4'\n",
    "save_path = os.path.join(save_folder_video, video_name)\n",
    "try:\n",
    "    os.remove(save_path)\n",
    "except:\n",
    "    pass\n",
    "if res.status_code == 200:\n",
    "    with open(save_path,'wb') as f:\n",
    "        f.write(res.content)\n",
    "else:\n",
    "    print('服务器响应问题')"
   ]
  },
  {
   "cell_type": "code",
   "execution_count": null,
   "id": "cdb2936a-4d70-4da0-87a0-580439036c8b",
   "metadata": {},
   "outputs": [],
   "source": [
    "vd = VideoFileClip(r\"C:\\Users\\rencan\\Videos\\慢慢喜欢你(画面).mp4\")\n",
    "ad = AudioFileClip(r\"C:\\Users\\rencan\\Videos\\慢慢喜欢你.mp4\")\n",
    "vd2 = vd.set_audio(ad)\n",
    "\n",
    "# 获取视频剪辑的帧速率\n",
    "fps = vd2.fps\n",
    "\n",
    "# 写入视频文件，指定正确的帧速率\n",
    "vd2.write_videofile(r\"C:\\Users\\rencan\\Videos\\慢慢喜欢你(完整).mp4\", fps=fps)"
   ]
  }
 ],
 "metadata": {
  "kernelspec": {
   "display_name": "Python 3 (ipykernel)",
   "language": "python",
   "name": "python3"
  },
  "language_info": {
   "codemirror_mode": {
    "name": "ipython",
    "version": 3
   },
   "file_extension": ".py",
   "mimetype": "text/x-python",
   "name": "python",
   "nbconvert_exporter": "python",
   "pygments_lexer": "ipython3",
   "version": "3.11.5"
  }
 },
 "nbformat": 4,
 "nbformat_minor": 5
}

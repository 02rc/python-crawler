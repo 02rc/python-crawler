{
 "cells": [
  {
   "cell_type": "code",
   "execution_count": 2,
   "id": "ddf82f57-8877-474b-a809-b1209e55d578",
   "metadata": {},
   "outputs": [],
   "source": [
    "## post请求--金山翻译\n",
    "import json\n",
    "import requests\n",
    "class clasify:\n",
    "    def __init__(self):\n",
    "        self.url = 'https://ifanyi.iciba.com/index.php?c=trans'\n",
    "        self.headers = {\n",
    "            'User-Agent': 'Mozilla/5.0 (Windows NT 10.0; Win64; x64) AppleWebKit/537.36 (KHTML, like Gecko) Chrome/123.0.0.0 Safari/537.36'\n",
    "        }\n",
    "    def sent(self,post_data):\n",
    "        res = requests.post(self.url,headers=self.headers,data=post_data)\n",
    "        return(res.text)\n",
    "    def get(self):\n",
    "        word = input('请输入你想翻译的内容：')\n",
    "        post_data={\n",
    "            'from':'zh',\n",
    "            'to': 'en',\n",
    "            'q': word\n",
    "        }\n",
    "        res = self.sent(post_data)\n",
    "        # 将json数据转换为python字典\n",
    "        dic = json.loads(res)\n",
    "        return dic['out']"
   ]
  },
  {
   "cell_type": "code",
   "execution_count": 3,
   "id": "8e16dc99-410c-457c-9249-fc77572f492e",
   "metadata": {},
   "outputs": [
    {
     "name": "stdin",
     "output_type": "stream",
     "text": [
      "请输入你想翻译的内容： 上海交通大学\n"
     ]
    },
    {
     "data": {
      "text/plain": [
       "'Shanghai Jiao Tong University'"
      ]
     },
     "execution_count": 3,
     "metadata": {},
     "output_type": "execute_result"
    }
   ],
   "source": [
    "cla = clasify()\n",
    "cla.get()"
   ]
  },
  {
   "cell_type": "code",
   "execution_count": null,
   "id": "9c0c554e-a66e-4c74-a05a-14ae8b5bb6f5",
   "metadata": {},
   "outputs": [],
   "source": []
  }
 ],
 "metadata": {
  "kernelspec": {
   "display_name": "Python 3 (ipykernel)",
   "language": "python",
   "name": "python3"
  },
  "language_info": {
   "codemirror_mode": {
    "name": "ipython",
    "version": 3
   },
   "file_extension": ".py",
   "mimetype": "text/x-python",
   "name": "python",
   "nbconvert_exporter": "python",
   "pygments_lexer": "ipython3",
   "version": "3.9.19"
  }
 },
 "nbformat": 4,
 "nbformat_minor": 5
}
